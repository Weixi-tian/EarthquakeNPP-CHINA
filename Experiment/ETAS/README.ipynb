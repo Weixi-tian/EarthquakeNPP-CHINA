{
 "cells": [
  {
   "cell_type": "markdown",
   "id": "aa6ba1d8-40f7-4ae6-ada3-63ce79200fef",
   "metadata": {},
   "source": [
    "# How to perform CSEP consistency tests"
   ]
  },
  {
   "cell_type": "markdown",
   "id": "1c052500-ad3c-4cd8-8435-68b9960a50b8",
   "metadata": {},
   "source": [
    "This notebook follows the `pyCSEP` documentation, which can be found [here](https://docs.cseptesting.org/index.html).\n",
    "\n",
    "It assumes that daily forecasts have been simulated by running\n",
    "\n",
    "  ```bash\n",
    "  python simulate_catalog_continuation.py [dataset] [day_of_forecast]\n",
    "  ```\n",
    "Where [day_of_forecast] is the integer number of days from the beginning of the testing period and `[dataset]` is one of `ComCat_25|SaltonSea_10|SanJac_10|SCEDC_20|WHITE_06|`."
   ]
  },
  {
   "cell_type": "markdown",
   "id": "82843984-0723-4900-8a0b-f69bf67f47ef",
   "metadata": {},
   "source": [
    "We begin by loading pycsep along with some other required libraries."
   ]
  },
  {
   "cell_type": "code",
   "execution_count": 16,
   "id": "cd280454-d295-4446-8a48-d44c0225e9f8",
   "metadata": {},
   "outputs": [],
   "source": [
    "import json\n",
    "import datetime \n",
    "import matplotlib.pyplot as plt\n",
    "import pandas as pd\n",
    "import numpy as np\n",
    "import os\n",
    "import cartopy.crs as ccrs\n",
    "import cartopy.feature as cfeature\n",
    "\n",
    "\n",
    "import csep\n",
    "from csep.core import regions\n",
    "from csep.utils import datasets, time_utils\n"
   ]
  },
  {
   "cell_type": "markdown",
   "id": "15358634-69c1-4986-acff-f2c56e6910e5",
   "metadata": {},
   "source": [
    "We then define the path to the output of the ETAS parameter inversion."
   ]
  },
  {
   "cell_type": "code",
   "execution_count": 2,
   "id": "c68c91f1-ddb7-4855-b214-a5fd156ab48f",
   "metadata": {},
   "outputs": [],
   "source": [
    "output_dr = 'output_data_CENC'\n",
    "with open(output_dr+'/parameters_0.json', 'r') as f:\n",
    "        inversion_output = json.load(f)"
   ]
  },
  {
   "cell_type": "markdown",
   "id": "c0bf37bb-bf59-430b-a00c-2a7f55eae8f5",
   "metadata": {},
   "source": [
    "## Define the spatial and magnitude regions"
   ]
  },
  {
   "cell_type": "markdown",
   "id": "5a6538c3-c710-44d9-adf7-a9ef11168e79",
   "metadata": {},
   "source": [
    "Before we can conduct the tests, we need to define a spatial region and a set of magnitude bin edges. The magnitude bin edges # are the lower bound (inclusive) except for the last bin, which is treated as extending to infinity."
   ]
  },
  {
   "cell_type": "code",
   "execution_count": 4,
   "id": "ecd3e956-6748-448d-8215-4a49de735e7d",
   "metadata": {},
   "outputs": [],
   "source": [
    "# Magnitude bins properties\n",
    "min_mw = inversion_output['mc']\t\t\t\t\t\t\t\n",
    "max_mw = 7.65\n",
    "dmw = 0.1\n",
    "\n",
    "# Create space and magnitude regions\n",
    "magnitudes = regions.magnitude_bins(min_mw, max_mw, dmw)\n",
    "region_china = regions.china_test_region()\n",
    "\n",
    "# Bind region information to the forecast\n",
    "space_magnitude_region = regions.create_space_magnitude_region(region_china, magnitudes)"
   ]
  },
  {
   "cell_type": "markdown",
   "id": "c42c7755",
   "metadata": {},
   "source": [
    "Plot the regions loading by csep.core.regions"
   ]
  },
  {
   "cell_type": "code",
   "execution_count": null,
   "id": "df7b7818",
   "metadata": {},
   "outputs": [],
   "source": [
    "#get the coordinate of the region_china\n",
    "fig = plt.figure(figsize=(10.5, 8.1))\n",
    "ax = fig.add_subplot(1, 1, 1, projection=ccrs.PlateCarree()) #添加底图并设置投影方式为mercator投影\n",
    "max_lat_plot, min_lat_plot, max_lon_plot, min_lon_plot = 34, 20, 108, 95# 经纬度范围,这是绘图的范围,不太一样\n",
    "ax.set_extent([min_lon_plot, max_lon_plot, min_lat_plot, max_lat_plot], crs=ccrs.PlateCarree()) #设定范围，并设定为平面等距投影，也就是平常所用的经纬度书韩剧就可以\n",
    "\n",
    "print(regions.CartesianGrid2D.origins(region_china))\n",
    "coordinate= region_china.tight_bbox() ###读取CSEP函数加载的区域数据的经纬度\n",
    "polygon_coords = coordinate\n",
    "ax.plot(polygon_coords[:, 0], polygon_coords[:, 1], transform=ccrs.PlateCarree(), color= 'red',lw=1.0) #这里的plot()中第一个参数是经度，第二个是纬度\n"
   ]
  },
  {
   "cell_type": "markdown",
   "id": "813b4509-7885-499f-b9fe-a326e41e8976",
   "metadata": {},
   "source": [
    "## Load the forecast data"
   ]
  },
  {
   "cell_type": "code",
   "execution_count": 6,
   "id": "3788d925-edd5-417c-9155-a1be785314ad",
   "metadata": {},
   "outputs": [],
   "source": [
    "# define forecast time period\n",
    "day = 7\n",
    "\n",
    "path_to_forecasts = output_dr + '/CSEP_day_'+str(day)+'_.csv'\n",
    "\n",
    "start_time = time_utils.strptime_to_utc_datetime(inversion_output['timewindow_end'])+ datetime.timedelta(days=day)\n",
    "end_time = start_time + datetime.timedelta(days=1)\n",
    "\n",
    "# load the forecast\n",
    "forecast = csep.load_catalog_forecast(\n",
    "path_to_forecasts,\n",
    "start_time=start_time, end_time=end_time,\n",
    "region=space_magnitude_region,\n",
    "filter_spatial = True,\n",
    "apply_filters=True\n",
    ")\n",
    "\n",
    "forecast.filters = [f'origin_time >= {forecast.start_epoch}', f'origin_time < {forecast.end_epoch}', f'magnitude >= {forecast.min_magnitude}']"
   ]
  },
  {
   "cell_type": "markdown",
   "id": "f19dc6d6-db76-4e83-b12b-ce287b754ff1",
   "metadata": {},
   "source": [
    "## Plot expected event counts"
   ]
  },
  {
   "cell_type": "markdown",
   "id": "5f5a77db-69c0-4883-bab6-4db5fa889bca",
   "metadata": {},
   "source": [
    "We can plot the expected event counts in each bin to visualise the day's forecast."
   ]
  },
  {
   "cell_type": "code",
   "execution_count": null,
   "id": "2188439a-c24b-4f1b-9e87-6a3eee629842",
   "metadata": {},
   "outputs": [],
   "source": [
    "_ = forecast.get_expected_rates(verbose=False, )\n",
    "ax = forecast.expected_rates.plot(plot_args={'clim': [-3.5, 0]}, show=True)\n",
    "plt.show()"
   ]
  },
  {
   "cell_type": "markdown",
   "id": "ee2c47fe-119d-4383-acfe-3f89ef352405",
   "metadata": {},
   "source": [
    "## Define the observed catalog"
   ]
  },
  {
   "cell_type": "markdown",
   "id": "66f6f696-f709-44a9-8b2d-1a633a868daa",
   "metadata": {},
   "source": [
    "We load the observed data and filter it to be compared with the daily forecast."
   ]
  },
  {
   "cell_type": "markdown",
   "id": "7f38d6ba",
   "metadata": {},
   "source": [
    "Tranforming the raw catalog to the CSEP type without load.catalog function. Generate the evenlist, see in  [text](https://docs.cseptesting.org/concepts/catalogs.html)"
   ]
  },
  {
   "cell_type": "code",
   "execution_count": 17,
   "id": "9aa93dfb",
   "metadata": {},
   "outputs": [
    {
     "name": "stdout",
     "output_type": "stream",
     "text": [
      "911169\n"
     ]
    }
   ],
   "source": [
    "\n",
    "# 读取数据\n",
    "raw_catalog = pd.read_csv(output_dr+'/CSES_0.csv')\n",
    "print(len(raw_catalog))\n",
    "\n",
    "# # 按时间排序并重置索引,避免有数据排序错乱\n",
    "raw_catalog = raw_catalog.sort_values(by='Time')\n",
    "raw_catalog.reset_index(drop=False, inplace=True)\n",
    "\n",
    "# 重命名列\n",
    "raw_catalog.rename(columns={'Time': 'time', 'Longitude': 'longitude', 'Latitude': 'latitude',\n",
    "                            'Magnitude': 'magnitude', 'Depth': 'depth','index': 'Id'}, inplace=True)\n",
    "raw_catalog.head()\n",
    "\n",
    "# # 只保留指定的列，并删除缺失值\n",
    "filtered_catalog = raw_catalog[[\"Id\",\"time\", \"latitude\",\"longitude\",\"depth\",\"magnitude\"]].dropna()\n",
    "# 将depth不确定的-1改为33\n",
    "filtered_catalog.loc[filtered_catalog['depth'] == -1, 'depth'] = 33\n",
    "\n",
    "    \n",
    "#转换为时间戳\n",
    "dt = []\n",
    "for i in range (len(filtered_catalog['time'])):\n",
    "    dt.append(str(datetime.datetime.fromisoformat(filtered_catalog['time'][i]))) \n",
    "\n",
    "dt2 = []\n",
    "for i in range (len(dt)):\n",
    "    dt2.append(time_utils.strptime_to_utc_epoch(dt[i]))\n",
    "\n",
    "idx = filtered_catalog['Id']\n",
    "latitude = filtered_catalog['latitude']\n",
    "longitude = filtered_catalog['longitude']\n",
    "depth = filtered_catalog['depth']\n",
    "magnitude = filtered_catalog['magnitude']\n",
    "\n",
    "#创建事件\n",
    "eventlist = np.column_stack([idx, dt2, latitude, longitude, depth, magnitude])\n",
    "array_of_tuples = map(tuple, eventlist) #每每一行的所有列一起创建为一个元组\n",
    "tuple_of_tuples = tuple(array_of_tuples) #把所有事件创建为一个元组\n",
    "\n",
    "#通过evenlist直接获取CSEPcatalog目录\n",
    "catalog_CSES = csep.catalogs.CSEPCatalog(data=tuple_of_tuples)\n"
   ]
  },
  {
   "cell_type": "code",
   "execution_count": 13,
   "id": "216c312b",
   "metadata": {},
   "outputs": [],
   "source": [
    "cat = catalog_CSES\n",
    "fn_result = output_dr+'/ttttttttests_CSEP_day_'+str(day)+'_'\t"
   ]
  },
  {
   "cell_type": "code",
   "execution_count": null,
   "id": "49a43eb5-e23d-422a-b3b2-596330a56b5c",
   "metadata": {},
   "outputs": [],
   "source": [
    "############# define observed catalog\n",
    "cat = csep.load_catalog(inversion_output['fn_catalog'])\t\n",
    "\t\n",
    "cat.name = 'ComCat'\n",
    "\n",
    "cat = cat.filter_spatial(forecast.region)\n",
    "cat = cat.filter(f'magnitude >= {min_mw}')\n",
    "cat = cat.filter(forecast.filters)\t\n",
    "\n",
    "fn_result = output_dr+'/tests_CSEP_day_'+str(day)+'_'\t"
   ]
  },
  {
   "cell_type": "markdown",
   "id": "41db7c30-8a02-4252-944d-856367e7782d",
   "metadata": {},
   "source": [
    "## Number test"
   ]
  },
  {
   "cell_type": "markdown",
   "id": "fa73d1d3-9bb5-4cc9-98ba-39699f231f7e",
   "metadata": {},
   "source": [
    "Aim: The number test aims to evaluate if the number of observed events is consistent with the forecast.\n",
    "\n",
    "Method: The observed statistic in this case is given by $N_{obs}$, which is simply the number of events in the observed catalog. To build the test distribution from the forecast, we simply count the number of events in each simulated catalog $N_j$ (for $j=1,\\dots,J$ repeat simulations)."
   ]
  },
  {
   "cell_type": "markdown",
   "id": "45d25e7c-749f-4448-82f6-de9784861527",
   "metadata": {},
   "source": [
    "We can then evaluate the probabilities of at least and at most N events, in this case using the empirical cumlative distribution function of $F_N$:\n",
    "\n",
    "$$\\delta_1 = \\mathbb{P}(N_j \\geq N_{obs}) = 1 - F_N(N_{obs}-1)$$\n",
    "\n",
    "and\n",
    "\n",
    "$$\\delta_2 = \\mathbb{P}(N_j \\leq N_{obs}) = 1 - F_N(N_{obs})$$"
   ]
  },
  {
   "cell_type": "markdown",
   "id": "29c5d10a-7319-4d42-ae5b-3d87f599d026",
   "metadata": {},
   "source": [
    "This can be performed in `pyCSEP` like this."
   ]
  },
  {
   "cell_type": "code",
   "execution_count": 14,
   "id": "e8540331-d06b-4a3c-a93c-cf6b8639e552",
   "metadata": {},
   "outputs": [
    {
     "name": "stderr",
     "output_type": "stream",
     "text": [
      "No artists with labels found to put in legend.  Note that artists whose label start with an underscore are ignored when legend() is called with no argument.\n"
     ]
    },
    {
     "data": {
      "image/png": "[encoded data removed]",
      "text/plain": [
       "<Figure size 640x480 with 1 Axes>"
      ]
     },
     "metadata": {},
     "output_type": "display_data"
    }
   ],
   "source": [
    "number_test_result = csep.core.catalog_evaluations.number_test(forecast, cat,verbose=False)\n",
    "ax = number_test_result.plot(show=True)\n",
    "result_json = json.dumps(number_test_result.to_dict())\n",
    "with open(fn_result + \"number.json\", \"w\") as f:\n",
    "    f.write(result_json)\n",
    "plt.show()"
   ]
  },
  {
   "cell_type": "markdown",
   "id": "8726298b-32e6-4d6a-b874-51538428ab7a",
   "metadata": {},
   "source": [
    "## Spatial test"
   ]
  },
  {
   "cell_type": "markdown",
   "id": "b9cde523-67ee-4f6d-ae71-7dfab47c857f",
   "metadata": {},
   "source": [
    "Aim: The spatial test again aims to isolate the spatial component of the forecast and test the consistency of spatial rates with observed events.\n",
    "\n",
    "Method We perform the spatial test using the expected earthquake rates $\\hat{\\lambda}_s$ (calculated and plotted above). The observed spatial test statistic is calculated as\n",
    "$$S_{obs} = \\left[\\sum_{i=1}^{N_{obs}}\\log \\hat{\\lambda}_s(k_i) \\right]N_{obs}^{-1}$$\n",
    "where $\\hat{\\lambda}_s(k_i)$ is the normalised approximate rate density in the $k^{th}$ cell corresponding to the $i^{th}$ event in the observed catalog.\n",
    "\n",
    "Similarly, we define the test distribution using\n",
    "$$S_c = \\left[\\sum_{i=1}^{N_{j}}\\log \\hat{\\lambda}_s(k_{ij}) \\right]N_{j}^{-1}; \\ \\ j=1,\\dots,J$$ \n",
    "Finally, the quantile score for the spatial test is determined by once again comparing the observed and test distribution statistics:\n",
    "$$\\gamma_s = F_s(\\hat{S}_{obs}) = \\mathbb{P}(\\hat{S}_j \\leq \\hat{S}_{obs}) $$ "
   ]
  },
  {
   "cell_type": "markdown",
   "id": "c193b076-291b-4ec2-b77e-646eaf6a0a13",
   "metadata": {},
   "source": [
    "This can be performed in `pyCSEP` like this."
   ]
  },
  {
   "cell_type": "code",
   "execution_count": null,
   "id": "3aa9cb6d-8ffc-4de7-a092-db298fc316a0",
   "metadata": {},
   "outputs": [],
   "source": [
    "spatial_test_result = csep.core.catalog_evaluations.spatial_test(forecast, cat, verbose=False)\n",
    "ax = spatial_test_result.plot(show=True)\n",
    "with open(fn_result + \"spatial.json\", \"w\") as f:\n",
    "    f.write(result_json)\n",
    "plt.show()"
   ]
  },
  {
   "cell_type": "markdown",
   "id": "254fe21b-b3b1-4ccf-861d-1fb45c67be31",
   "metadata": {},
   "source": [
    "## Magnitude test"
   ]
  },
  {
   "cell_type": "markdown",
   "id": "1ebdaa96-6575-4303-900f-001f74f77e5a",
   "metadata": {},
   "source": [
    "Aim: The magnitude test aims to test the consistency of the observed frequency-magnitude distribution with that in the simulated catalogs that make up the forecast.\n",
    "\n",
    "Method: We first define the union catalog $\\$\\Lambda_U$ as the union of all simulated catalogs in the forecast. Formally:\n",
    "\n",
    "$$ \\Lambda_U = { \\lambda_1 \\cup \\lambda_2 \\cup ... \\cup \\lambda_j } $$\n",
    "\n",
    "so that the union catalog contains all events across all simulated catalogs for a total of $N_U = \\sum_{j=1}^{J} \\big{|}\\lambda_j\\big{|}$ events. We then compute the following histograms discretised to the magnitude range and magnitude step size (specified earlier for pyCSEP): 1. the histogram of the union catalog magnitudes $\\Lambda_U^{(m)}$ 2. Histograms of magnitudes in each of the individual simulated catalogs $\\lambda_j^{(m)}$ 3. the histogram of the observed catalog magnitudes $\\Omega^{(m)}$.\n",
    "\n",
    "The histograms are normalized so that the total number of events across all bins is equal to the observed number. The observed statistic is then calculated as the sum of squared logarithmic residuals between the normalised observed magnitudes and the union histograms. This statistic is related to the Kramer von-Mises statistic.\n",
    "\n",
    "$$ d_{obs}= \\sum_{k}\\Bigg(\\log\\Bigg[\\frac{N_{obs}}{N_U} \\Lambda_U^{(m)}(k) + 1\\Bigg]- \\log\\Big[\\Omega^{(m)}(k) + 1\\Big]\\Bigg)^2$$\n",
    "\n",
    "where $\\Lambda_U^{(m)}(k)$ and $\\Omega^{(m)}(k)$ represent the count in the $k^{th}$ bin of the magnitude-frequency distribution in the union and observed catalogs respectively. We add unity to each bin to avoid $\\log(0)$. We then build the test distribution from the catalogs in $\\boldsymbol{\\Lambda}$:\n",
    "\n",
    "$$ D_j = \\sum_{k}\\Bigg(\\log\\Bigg[\\frac{N_{obs}}{N_U} \\Lambda_U^{(m)}(k) + 1\\Bigg]- \\log\\Bigg[\\frac{N_{obs}}{N_j}\\Lambda_j^{(m)}(k) + 1\\Bigg]\\Bigg)^2; j= 1...J$$\n",
    "\n",
    "where $\\lambda_j^{(m)}(k)$ represents the count in the $k^{th}$ bin of the magnitude-frequency distribution of the $j^{th}$ catalog.\n",
    "\n",
    "The quantile score can then be calculated using the empirical CDF such that\n",
    "\n",
    "$$\\gamma_m = F_D(d_{obs})= P(D_j \\leq d_{obs})$$"
   ]
  },
  {
   "cell_type": "markdown",
   "id": "2ff7ed40-e6b0-43c5-b602-0969f0ac2489",
   "metadata": {},
   "source": [
    "This can be performed in `pyCSEP` like this."
   ]
  },
  {
   "cell_type": "code",
   "execution_count": null,
   "id": "39a41e03-6253-49c9-bd87-26bab37fa0fc",
   "metadata": {},
   "outputs": [],
   "source": [
    "magnitude_test_result = csep.core.catalog_evaluations.magnitude_test(forecast, cat,verbose = False)\n",
    "ax = magnitude_test_result.plot(show=True)\n",
    "result_json = json.dumps(magnitude_test_result.to_dict())\n",
    "with open(fn_result + \"magnitude.json\", \"w\") as f:\n",
    "    f.write(result_json)\n",
    "plt.show()"
   ]
  }
 ],
 "metadata": {
  "kernelspec": {
   "display_name": "earthquakeNPP_from_sam",
   "language": "python",
   "name": "python3"
  },
  "language_info": {
   "codemirror_mode": {
    "name": "ipython",
    "version": 3
   },
   "file_extension": ".py",
   "mimetype": "text/x-python",
   "name": "python",
   "nbconvert_exporter": "python",
   "pygments_lexer": "ipython3",
   "version": "3.8.19"
  }
 },
 "nbformat": 4,
 "nbformat_minor": 5
}
