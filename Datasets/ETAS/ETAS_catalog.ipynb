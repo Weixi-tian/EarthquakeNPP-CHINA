{
 "cells": [
  {
   "cell_type": "code",
   "execution_count": 1,
   "metadata": {},
   "outputs": [],
   "source": [
    "import numpy as np\n",
    "import pandas as pd\n",
    "from shapely.geometry import Polygon\n",
    "import matplotlib.pyplot as plt\n",
    "import logging\n",
    "import sys\n",
    "import math\n",
    "import json\n",
    "import cartopy.crs as ccrs\n",
    "import cartopy.feature as cfeature\n",
    "import warnings\n",
    "warnings.filterwarnings('ignore')\n",
    "from scipy.ndimage import uniform_filter1d\n",
    "from etas import set_up_logger\n",
    "from etas.inversion import round_half_up\n",
    "from etas.simulation import generate_catalog\n",
    "from filter_catalog_incompleteness import find_mainshock_times, apply_detection_threshold\n",
    "sys.path.append('..')\n",
    "\n",
    "from plot_utils_China import azimuthal_equidistant_projection, maxc,\\\n",
    "load_CN_borders,load_CN_faluts,plot_faluts,plot_borders\n",
    "\n",
    "\n",
    "# Custom Colormap\n",
    "colors = [\"#5F0F40\", \"#C9DAEA\", \"#84A07C\", \"#E36414\", \"#39A9DB\", \"#0081A7\", \"#284B63\", \"#FFD449\"]"
   ]
  },
  {
   "cell_type": "code",
   "execution_count": 7,
   "metadata": {},
   "outputs": [],
   "source": [
    "polygon_coords=np.load('/home/tianweixi/EarthquakeNPP_CSEP_China/Datasets/ETAS/data/CSEP_China_Region.npy')\n",
    "    # polygon_coords = polygon_coords[0:12962, [1, 0]] #点文件就是有问题，若是用全部的点文件会导致很久都跑不出来\n",
    "polygon_coords = polygon_coords[:,[1,0]]\n",
    "np.save('/home/tianweixi/EarthquakeNPP_CSEP_China/Datasets/ETAS/data/CSEP_China_Region_new.npy',polygon_coords)\n"
   ]
  },
  {
   "cell_type": "markdown",
   "metadata": {},
   "source": [
    "# Run etas-simulation "
   ]
  },
  {
   "cell_type": "code",
   "execution_count": null,
   "metadata": {},
   "outputs": [],
   "source": [
    "## The time for CSEP_China region is about 30 seconds\n",
    "# We will get the simulation catalog named ETAS_China_catalog here!\n",
    "from simulate_catalog import run_simulation\n",
    "run_simulation()"
   ]
  },
  {
   "cell_type": "markdown",
   "metadata": {},
   "source": [
    "### Lets read the synthetic catalog and visualise it"
   ]
  },
  {
   "cell_type": "code",
   "execution_count": null,
   "metadata": {},
   "outputs": [],
   "source": [
    "with open(\"/home/tianweixi/EarthquakeNPP_CSEP_China/Datasets/ETAS/simulate_ETAS_California_catalog_config.json\", 'r') as f:\n",
    "        config = json.load(f)\n",
    "\n",
    "catalog = pd.read_csv(\n",
    "                config[\"fn_store\"],\n",
    "                index_col=0, #表明将文件的第0列当作索引而不是普通列包含再数据中，感觉不是很有必要\n",
    "                parse_dates=[\"time\"], #将指定的列自动转换为datetime格式，便于后续处理\n",
    "                dtype={\"url\": str, \"alert\": str},#将指定的列转换为字符串，但是这个目录文件里并没有，所以也是多余的\n",
    "            )\n",
    "\n",
    "catalog = catalog.sort_values(by='time')\n",
    "catalog.head()"
   ]
  },
  {
   "cell_type": "code",
   "execution_count": null,
   "metadata": {},
   "outputs": [],
   "source": [
    "%matplotlib inline\n",
    "plt.figure(figsize=(15, 7))\n",
    "plt.gca().set_facecolor((0.95, 0.95, 0.95))\n",
    "\n",
    "z = (9.5**catalog['magnitude'])*0.0005\n",
    "plt.scatter(catalog['time'],catalog['magnitude'],s=z,color =colors[3])\n",
    "plt.xlabel('Time',fontsize=12)\n",
    "plt.ylabel('Magnitude',fontsize=12)\n",
    "plt.xticks(fontsize=12)\n",
    "plt.yticks(fontsize=12)\n",
    "plt.ylim([2.2,7.5])\n",
    "plt.show()"
   ]
  },
  {
   "cell_type": "markdown",
   "metadata": {},
   "source": [
    "Since ETAS uses the great-circle distance between two points on a sphere (km), for the NPPs we need to project the coordinates of the events into a space such that inter-event distances are in km. To do this, we can use the Azimuthal equidistant projection [2], which preserves distances from all points to a center point."
   ]
  },
  {
   "cell_type": "markdown",
   "metadata": {},
   "source": [
    "We pass the mean coordinates of the catalog as the center coordinates of the projection."
   ]
  },
  {
   "cell_type": "code",
   "execution_count": 6,
   "metadata": {},
   "outputs": [],
   "source": [
    "center_latitude = catalog['latitude'].mean()  # Latitude of the center point\n",
    "center_longitude = catalog['longitude'].mean()  # Longitude of the center point\n",
    "\n",
    "# Convert latitude and longitude to Cartesian coordinates using Plate Carrée projection\n",
    "catalog['x'], catalog['y'] = azimuthal_equidistant_projection(catalog['latitude'], catalog['longitude'], center_latitude, center_longitude)"
   ]
  },
  {
   "cell_type": "code",
   "execution_count": null,
   "metadata": {},
   "outputs": [],
   "source": [
    "catalog.head()\n",
    "catalog.to_csv(\"/home/tianweixi/EarthquakeNPP_CSEP_China/Datasets/ETAS/data/ETAS_simulation_catalog/ETAS_China_catalog_Azimuthal_euqidisyant_projection.csv\")"
   ]
  },
  {
   "cell_type": "markdown",
   "metadata": {},
   "source": [
    "# Visualise the catalog"
   ]
  },
  {
   "cell_type": "code",
   "execution_count": null,
   "metadata": {},
   "outputs": [],
   "source": [
    "import os\n",
    "catalog = pd.read_csv('/home/tianweixi/EarthquakeNPP_CSEP_China/Datasets/ETAS/data/ETAS_simulation_catalog/ETAS_China_catalog_Azimuthal_euqidisyant_projection.csv')\n",
    "catalog['time'] = pd.to_datetime(catalog['time'])\n",
    "\n",
    "\n",
    "%matplotlib inline\n",
    "plt.figure(figsize=(15, 7)) # the size of figure\n",
    "plt.gca().set_facecolor((0.95, 0.95, 0.95)) # get current axis(gca), set the face color\n",
    "\n",
    "# Compute M_c(t) across the filetred catalog\n",
    "window_size=300\n",
    "nwindows = math.floor(len(catalog['magnitude'])/window_size) #calculate the number of windows\n",
    "\n",
    "\n",
    "Mc_t = [0]*nwindows\n",
    "mid_time = [0]*nwindows\n",
    "\n",
    "comp_T = catalog['time']\n",
    "comp_M = catalog['magnitude']\n",
    "\n",
    "for i in range(nwindows): #依次获取每个window包含的地震震级信息，并输入（震级，震级间隔）到maxc进行计算\n",
    "    \n",
    "    mid_time[i] =  pd.Timestamp(pd.Series(comp_T[i*window_size:(i+1)*window_size]).mean())\n",
    "\n",
    "    window = comp_M[i*window_size:(i+1)*window_size] \n",
    "    Mc_t[i] = maxc(window,0.05)\n",
    "\n",
    "# Smooth M_c(t) for plotting\n",
    "Mc_t = uniform_filter1d(Mc_t, size=40)\n",
    "\n",
    "# Plotting\n",
    "plt.step(mid_time,Mc_t,colors[0],label=r'$M_c(t)$',lw=3)\n",
    "z = (9.5**catalog['magnitude'])*0.0001\n",
    "plt.scatter(catalog['time'],catalog['magnitude'],s=z,color =colors[3])\n",
    "plt.xlabel('Time',fontsize=12)\n",
    "plt.ylabel('Magnitude',fontsize=12)\n",
    "plt.xticks(fontsize=12)\n",
    "plt.yticks(fontsize=12)\n",
    "plt.legend(fontsize=12)\n",
    "plt.ylim(0,9.0)\n",
    "# save the figure\n",
    "os.makedirs(\"data/Figure\", exist_ok=True)\n",
    "plt.savefig('data/Figure/1.MC.png', dpi=300, format='png', bbox_inches='tight')\n",
    "\n",
    "plt.show()"
   ]
  },
  {
   "cell_type": "markdown",
   "metadata": {},
   "source": [
    "let's now visualise the coordinates of events in the catalog"
   ]
  },
  {
   "cell_type": "code",
   "execution_count": null,
   "metadata": {},
   "outputs": [],
   "source": [
    "# Create a figure with Cartopy\n",
    "fig = plt.figure(figsize=(10.5, 8.1))\n",
    "ax = fig.add_subplot(1, 1, 1, projection=ccrs.Mercator()) #添加底图并设置投影方式为mercator投影\n",
    "max_lat_plot, min_lat_plot, max_lon_plot, min_lon_plot = 35, 20, 110, 95# 经纬度范围,这是绘图的范围,不太一样\n",
    "ax.set_extent([min_lon_plot, max_lon_plot, min_lat_plot, max_lat_plot], crs=ccrs.PlateCarree()) #设定范围，并设定为平面等距投影，也就是平常所用的经纬度书韩剧就可以\n",
    "\n",
    "\n",
    "#Read borders and faluts file\n",
    "# 读取border数据\n",
    "file_path = 'data/CN-border-La.gmt'\n",
    "borders = load_CN_borders(file_path)\n",
    "# 读取faluts数据\n",
    "file_path = 'data/CN-faults.gmt'\n",
    "faluts = load_CN_faluts(file_path)\n",
    "\n",
    "# Add gridlines with customization\n",
    "gl = ax.gridlines(draw_labels=True, color='gray', linestyle='--', alpha=0.4)\n",
    "gl.right_labels = False\n",
    "gl.top_labels = False\n",
    "ax.tick_params(axis='x', labelsize=16) #设置刻度参数\n",
    "ax.tick_params(axis='y', labelsize=16)\n",
    "\n",
    "# Plot polygon\n",
    "polygon_coords = np.load('data/CSEP_China_Region.npy')\n",
    "polygon_coords = polygon_coords[0:12962, [1, 0]] #交换一下经纬度,同时这里只能使用直到12962的数据点.因为原始文件错误,导致后面进行地震目录过滤时报错交叉,通过121962则可以避免.\n",
    "plot_polygon_coords = np.append(polygon_coords, [polygon_coords[0]], axis=0)\n",
    "ax.plot(plot_polygon_coords[:, 1], plot_polygon_coords[:, 0], transform=ccrs.PlateCarree(), color='red', lw=2.0) #这里的plot()中第一个参数是经度，第二个是纬度\n",
    "\n",
    "# Plot events\n",
    "ax.scatter(catalog['longitude'], catalog['latitude'], transform=ccrs.PlateCarree(), s=0.4, color=colors[3], alpha=0.8)\n",
    "\n",
    "# Add colored land and ocean, we need to plot them after plotting the event. Otherwise, it will be covered\n",
    "ax.add_feature(cfeature.OCEAN.with_scale('50m'),facecolor=\"#0081A7\")\n",
    "ax.add_feature(cfeature.LAND.with_scale('50m'),facecolor=\"#5F0F40\")\n",
    "\n",
    "#绘制faluts和borders数据\n",
    "\n",
    "plot_faluts(faluts,ax,min_lon_plot, max_lon_plot, min_lat_plot, max_lat_plot)\n",
    "plot_borders(borders,ax)\n",
    "\n",
    "#保存图片\n",
    "plt.savefig('data/Figure/2.Event_and_Region.png', dpi=300, format='png', bbox_inches='tight')\n",
    "\n",
    "plt.show()\n"
   ]
  },
  {
   "cell_type": "markdown",
   "metadata": {},
   "source": [
    "## Generating the incomplete catalog"
   ]
  },
  {
   "cell_type": "markdown",
   "metadata": {},
   "source": [
    "$$M_c(M,t) = M/2 - 0.25 - \\log_{10}(t),$$\n",
    "where $M$ is the mainshock magnitude. Events below this threshold are removed using mainshocks of Mw 5.2 and above."
   ]
  },
  {
   "cell_type": "code",
   "execution_count": null,
   "metadata": {},
   "outputs": [],
   "source": [
    "# Set the magnitude threshold for mainshock selection\n",
    "magnitude_threshold = 5.2 #为什么\n",
    "\n",
    "# Find the mainshock times\n",
    "mainshock_times = find_mainshock_times(catalog, magnitude_threshold)\n",
    "\n",
    "print('Number of Mainshocks:', len(mainshock_times))\n",
    "\n",
    "# Apply detection threshold to aftershocks of each mainshock\n",
    "filtered_catalog = apply_detection_threshold(catalog, mainshock_times)\n",
    "\n",
    "print(\"Original number of events:\", len(catalog))\n",
    "print(\"Number of events after applying time and magnitude dependent detection threshold:\", len(filtered_catalog))\n"
   ]
  },
  {
   "cell_type": "markdown",
   "metadata": {},
   "source": [
    "We apply the Azimuthal equidistant projection as before and write to a file."
   ]
  },
  {
   "cell_type": "code",
   "execution_count": 18,
   "metadata": {},
   "outputs": [],
   "source": [
    "filtered_catalog.to_csv(\"/home/tianweixi/EarthquakeNPP_CSEP_China/Datasets/ETAS/data/ETAS_simulation_catalog/ETAS_China_incomplete_catalog.csv\")"
   ]
  },
  {
   "cell_type": "markdown",
   "metadata": {},
   "source": [
    "## This is the additional option and exercises for you to understand how to removed earthquakes"
   ]
  },
  {
   "cell_type": "markdown",
   "metadata": {},
   "source": [
    "We can see how events have been removed under the line $M_c(M,t)$.\n",
    "只是以其中一个地震为例子"
   ]
  },
  {
   "cell_type": "code",
   "execution_count": null,
   "metadata": {},
   "outputs": [],
   "source": [
    "%matplotlib inline\n",
    "plt.figure(figsize=(15, 7))\n",
    "plt.gca().set_facecolor((0.95, 0.95, 0.95))\n",
    "\n",
    "\n",
    "# Find the index of the largest earthquake by magnitude \n",
    "largest_earthquake_index = np.where(filtered_catalog['magnitude'].to_numpy()==filtered_catalog['magnitude'].max())[0][0]-6 #但是不懂这个-6是什么意思，前面的已经找到了最大的地震的index了(反正计算的时候是所有时间减去第6个值的索引)\n",
    "\n",
    "# Get the 150 earthquakes preceding the largest one\n",
    "#但是这里明明是计算的大地震后的150个的地震的索引\n",
    "start_index = largest_earthquake_index\n",
    "df_preceding = filtered_catalog.iloc[largest_earthquake_index:largest_earthquake_index+150]\n",
    "\n",
    "# Compute time_dependent line\n",
    "M = filtered_catalog['magnitude'].max()\n",
    "time_days = (df_preceding['time'] - df_preceding['time'].iloc[6]).dt.total_seconds() / (24 * 3600) #计算各个地震和主震的时间差（转化成秒）\n",
    "time_dependent = np.maximum(M / 2 - 0.25 - np.log10(time_days),2.5) #这里和最低下限进行了一个筛选，因为根据上面的公式计算，\n",
    "\n",
    "# Plotting\n",
    "z = (3.5**df_preceding['magnitude'])*0.4\n",
    "plt.scatter(df_preceding['time'], df_preceding['magnitude'], color=colors[3], s=z)\n",
    "plt.plot(df_preceding['time'], time_dependent, color=colors[0], linewidth=3,label=r'$M_c(M,t)$')\n",
    "plt.xlabel('Time',fontsize=12)\n",
    "plt.ylabel('Magnitude',fontsize=12)\n",
    "plt.ylim([2.2,7.5])\n",
    "plt.xticks(fontsize=12)\n",
    "plt.yticks(fontsize=12)\n",
    "plt.legend(fontsize=12)\n",
    "plt.show()"
   ]
  }
 ],
 "metadata": {
  "kernelspec": {
   "display_name": "earthquakeNPP_from_sam",
   "language": "python",
   "name": "python3"
  },
  "language_info": {
   "codemirror_mode": {
    "name": "ipython",
    "version": 3
   },
   "file_extension": ".py",
   "mimetype": "text/x-python",
   "name": "python",
   "nbconvert_exporter": "python",
   "pygments_lexer": "ipython3",
   "version": "3.8.19"
  }
 },
 "nbformat": 4,
 "nbformat_minor": 2
}
